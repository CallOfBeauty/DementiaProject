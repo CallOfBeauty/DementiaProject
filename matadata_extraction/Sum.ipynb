{
 "cells": [
  {
   "cell_type": "code",
   "execution_count": 2,
   "id": "aa50fdb8-1012-4df9-8bcf-9e968bf2872c",
   "metadata": {},
   "outputs": [
    {
     "name": "stdout",
     "output_type": "stream",
     "text": [
      "Requirement already satisfied: tensorflow in /usr/local/Cellar/jupyterlab/4.0.6/libexec/lib/python3.11/site-packages (1.8.0)\n",
      "Requirement already satisfied: absl-py>=0.1.6 in /usr/local/Cellar/jupyterlab/4.0.6/libexec/lib/python3.11/site-packages (from tensorflow) (2.0.0)\n",
      "Requirement already satisfied: astor>=0.6.0 in /usr/local/Cellar/jupyterlab/4.0.6/libexec/lib/python3.11/site-packages (from tensorflow) (0.8.1)\n",
      "Requirement already satisfied: gast>=0.2.0 in /usr/local/Cellar/jupyterlab/4.0.6/libexec/lib/python3.11/site-packages (from tensorflow) (0.5.4)\n",
      "Requirement already satisfied: numpy>=1.13.3 in /usr/local/Cellar/jupyterlab/4.0.6/libexec/lib/python3.11/site-packages (from tensorflow) (1.26.0)\n",
      "Requirement already satisfied: six>=1.10.0 in /usr/local/opt/six/lib/python3.11/site-packages (from tensorflow) (1.16.0)\n",
      "Requirement already satisfied: protobuf>=3.4.0 in /usr/local/Cellar/jupyterlab/4.0.6/libexec/lib/python3.11/site-packages (from tensorflow) (4.24.4)\n",
      "Requirement already satisfied: tensorboard<1.9.0,>=1.8.0 in /usr/local/Cellar/jupyterlab/4.0.6/libexec/lib/python3.11/site-packages (from tensorflow) (1.8.0)\n",
      "Requirement already satisfied: termcolor>=1.1.0 in /usr/local/Cellar/jupyterlab/4.0.6/libexec/lib/python3.11/site-packages (from tensorflow) (2.3.0)\n",
      "Requirement already satisfied: grpcio>=1.8.6 in /usr/local/Cellar/jupyterlab/4.0.6/libexec/lib/python3.11/site-packages (from tensorflow) (1.59.0)\n",
      "Requirement already satisfied: wheel>=0.26 in /usr/local/lib/python3.11/site-packages (from tensorflow) (0.41.2)\n",
      "Requirement already satisfied: werkzeug>=0.11.10 in /usr/local/Cellar/jupyterlab/4.0.6/libexec/lib/python3.11/site-packages (from tensorboard<1.9.0,>=1.8.0->tensorflow) (3.0.0)\n",
      "Requirement already satisfied: html5lib==0.9999999 in /usr/local/Cellar/jupyterlab/4.0.6/libexec/lib/python3.11/site-packages (from tensorboard<1.9.0,>=1.8.0->tensorflow) (0.9999999)\n",
      "Requirement already satisfied: markdown>=2.6.8 in /usr/local/Cellar/jupyterlab/4.0.6/libexec/lib/python3.11/site-packages (from tensorboard<1.9.0,>=1.8.0->tensorflow) (3.4.4)\n",
      "Requirement already satisfied: bleach==1.5.0 in /usr/local/Cellar/jupyterlab/4.0.6/libexec/lib/python3.11/site-packages (from tensorboard<1.9.0,>=1.8.0->tensorflow) (1.5.0)\n",
      "Requirement already satisfied: MarkupSafe>=2.1.1 in /usr/local/Cellar/jupyterlab/4.0.6/libexec/lib/python3.11/site-packages (from werkzeug>=0.11.10->tensorboard<1.9.0,>=1.8.0->tensorflow) (2.1.3)\n",
      "\n",
      "\u001b[1m[\u001b[0m\u001b[34;49mnotice\u001b[0m\u001b[1;39;49m]\u001b[0m\u001b[39;49m A new release of pip is available: \u001b[0m\u001b[31;49m23.2.1\u001b[0m\u001b[39;49m -> \u001b[0m\u001b[32;49m23.3.1\u001b[0m\n",
      "\u001b[1m[\u001b[0m\u001b[34;49mnotice\u001b[0m\u001b[1;39;49m]\u001b[0m\u001b[39;49m To update, run: \u001b[0m\u001b[32;49m/usr/local/Cellar/jupyterlab/4.0.6/libexec/bin/python -m pip install --upgrade pip\u001b[0m\n",
      "Note: you may need to restart the kernel to use updated packages.\n"
     ]
    }
   ],
   "source": [
    "pip install tensorflow\n"
   ]
  },
  {
   "cell_type": "code",
   "execution_count": null,
   "id": "493e7e4a-bad2-4e42-b868-8a0b53387803",
   "metadata": {},
   "outputs": [],
   "source": []
  }
 ],
 "metadata": {
  "kernelspec": {
   "display_name": "Python 3 (ipykernel)",
   "language": "python",
   "name": "python3"
  },
  "language_info": {
   "codemirror_mode": {
    "name": "ipython",
    "version": 3
   },
   "file_extension": ".py",
   "mimetype": "text/x-python",
   "name": "python",
   "nbconvert_exporter": "python",
   "pygments_lexer": "ipython3",
   "version": "3.11.5"
  }
 },
 "nbformat": 4,
 "nbformat_minor": 5
}
