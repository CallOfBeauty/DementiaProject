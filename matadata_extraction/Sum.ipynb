{
 "cells": [
  {
   "cell_type": "code",
   "execution_count": 35,
   "id": "493e7e4a-bad2-4e42-b868-8a0b53387803",
   "metadata": {},
   "outputs": [
    {
     "name": "stdout",
     "output_type": "stream",
     "text": [
      "Image exported to image_info.xlsx\n"
     ]
    }
   ],
   "source": [
    "## Metadata Extraction\n",
    "\n",
    "import os\n",
    "from PIL import Image, PngImagePlugin\n",
    "import exifread\n",
    "import pandas as pd\n",
    "\n",
    "\n",
    "def extract_exif_data(image_path):\n",
    "    with open(image_path, 'rb') as img_file:\n",
    "        tags = exifread.process_file(img_file, details=False)\n",
    "        return {tag: tags[tag].values for tag in tags}\n",
    "\n",
    "def extract_png_textual_info(image):\n",
    "    \"\"\" Extract textual information from PNG files \"\"\"\n",
    "    info = {}\n",
    "    if hasattr(image, 'text'):\n",
    "        for key, value in image.text.items():\n",
    "            info[f\"PNG Text: {key}\"] = value\n",
    "    return info\n",
    "\n",
    "def extract_basic_info(image_path):\n",
    "    with Image.open(image_path) as img:\n",
    "        info = {\n",
    "            \"File Format\": img.format,\n",
    "            \"Image Size\": img.size,\n",
    "            \"Color Mode\": img.mode,\n",
    "            \"Width (pixels)\": img.width,\n",
    "            \"Height (pixels)\": img.height\n",
    "        }\n",
    "\n",
    "        # Add PNG textual information if available\n",
    "        if img.format == \"PNG\":\n",
    "            info.update(extract_png_textual_info(img))\n",
    "\n",
    "        # Add other properties from the 'info' dictionary\n",
    "        for key, value in img.info.items():\n",
    "            if key not in [\"icc_profile\", \"dpi\"]:\n",
    "                info[f\"Image Property: {key}\"] = value\n",
    "\n",
    "    return info\n",
    "\n",
    "def save_to_excel(info, filename):\n",
    "    df = pd.DataFrame([info])\n",
    "    df.to_excel(filename, index=False)\n",
    "    \n",
    "\n",
    "current_dir = os.getcwd()\n",
    "\n",
    "# Construct the path to the image folder\n",
    "image_folder = 'image'\n",
    "image_filename = 'image.png'  # Image file name\n",
    "image_path = os.path.join(current_dir, image_folder, image_filename)\n",
    "\n",
    "# Process the image\n",
    "basic_info = extract_basic_info(image_path)\n",
    "\n",
    "# Attempt to extract EXIF data if it's a JPEG or TIFF\n",
    "if basic_info[\"File Format\"] in [\"JPEG\", \"TIFF\"]:\n",
    "    exif_data = extract_exif_data(image_path)\n",
    "    basic_info.update(exif_data)\n",
    "\n",
    "# Save the data to an Excel file\n",
    "excel_filename = 'image_info.xlsx'\n",
    "save_to_excel(basic_info, excel_filename)\n",
    "print(\"Image exported to image_info.xlsx\")\n",
    "    "
   ]
  },
  {
   "cell_type": "code",
   "execution_count": 39,
   "id": "04949f4e-6cc0-476d-89d7-6edae10af06e",
   "metadata": {
    "tags": []
   },
   "outputs": [
    {
     "name": "stdout",
     "output_type": "stream",
     "text": [
      "1/1 [==============================] - 1s 1s/step\n"
     ]
    },
    {
     "name": "stdin",
     "output_type": "stream",
     "text": [
      "Enter your descriptions of the image:  sheep\n"
     ]
    },
    {
     "name": "stdout",
     "output_type": "stream",
     "text": [
      "Integrated Data: {}\n"
     ]
    }
   ],
   "source": [
    "## image_analysis.py\n",
    "import tensorflow as tf\n",
    "from tensorflow.keras.applications.resnet50 import ResNet50, preprocess_input, decode_predictions\n",
    "from PIL import Image, ImageFile\n",
    "import numpy as np\n",
    "import annotate_image\n",
    "\n",
    "ImageFile.LOAD_TRUNCATED_IMAGES = True\n",
    "\n",
    "def load_and_prep_image(image_path, target_size=(224, 224)):\n",
    "    \"\"\"Load and prepare an image for analysis.\"\"\"\n",
    "    img = Image.open(image_path).convert('RGB')\n",
    "    img = img.resize(target_size)\n",
    "    img = np.array(img)\n",
    "    img = preprocess_input(img)\n",
    "    img = np.expand_dims(img, axis=0)\n",
    "    return img\n",
    "\n",
    "def model_predict(image_path, model):\n",
    "    \"\"\"Use a pre-trained model to predict the contents of an image.\"\"\"\n",
    "    img = load_and_prep_image(image_path)\n",
    "    preds = model.predict(img)\n",
    "    return decode_predictions(preds, top=5)[0]\n",
    "\n",
    "def integrate_user_descriptions(predictions, user_descriptions):\n",
    "    \"\"\"Integrate user descriptions with model predictions.\"\"\"\n",
    "    user_words = set(user_descriptions.lower().split())\n",
    "    integrated_data = {}\n",
    "\n",
    "    for _, label, score in predictions:\n",
    "        label_words = set(label.lower().replace('_', ' ').split())\n",
    "        common_words = user_words.intersection(label_words)\n",
    "        if common_words:\n",
    "            integrated_data[label] = {\n",
    "                \"Model Confidence\": f\"{score:.2f}\",\n",
    "                \"Related User Words\": list(common_words)\n",
    "            }\n",
    "\n",
    "    return integrated_data\n",
    "\n",
    "model = ResNet50(weights=\"imagenet\")\n",
    "\n",
    "# Get the current working directory\n",
    "current_dir = os.getcwd()\n",
    "\n",
    "# Construct the path to the image folder\n",
    "image_folder = 'image'\n",
    "image_filename = 'image.png'  # Replace this with your actual image file name\n",
    "image_path = os.path.join(current_dir, image_folder, image_filename)\n",
    "\n",
    "predictions = model_predict(image_path, model)\n",
    "\n",
    "# User input for additional descriptions\n",
    "user_descriptions = input(\"Enter your descriptions of the image: \")\n",
    "\n",
    "# Integrate model predictions with user descriptions\n",
    "integrated_info = integrate_user_descriptions(predictions, user_descriptions)\n",
    "print(\"Integrated Data:\", integrated_info)\n",
    "\n",
    "# Placeholder for bounding box data\n",
    "# This needs to be replaced with actual object detection data\n",
    "boxes_example = [(100, 100, 200, 200), (300, 300, 400, 400)]\n",
    "labels_example = [label for _, label, _ in predictions]\n",
    "\n",
    "# Call the function from annotate_image.py to draw bounding boxes\n",
    "annotate_image.draw_boxes(image_path, boxes_example, labels_example)\n"
   ]
  },
  {
   "cell_type": "code",
   "execution_count": 41,
   "id": "d0962660-be19-4f3d-a6f1-ac1f8e44430b",
   "metadata": {
    "tags": []
   },
   "outputs": [],
   "source": [
    "## annotate_image.py\n",
    "from PIL import Image, ImageDraw, ImageFont, ImageFile\n",
    "\n",
    "# Allow loading of truncated/corrupted images if possible\n",
    "ImageFile.LOAD_TRUNCATED_IMAGES = True\n",
    "\n",
    "\n",
    "def draw_boxes(image_path, boxes, labels):\n",
    "    \"\"\"Draw bounding boxes and labels on the image.\"\"\"\n",
    "    with Image.open(image_path) as img:\n",
    "        draw = ImageDraw.Draw(img)\n",
    "        font = ImageFont.load_default()\n",
    "\n",
    "        for box, label in zip(boxes, labels):\n",
    "            draw.rectangle(box, outline=\"red\", width=2)\n",
    "            draw.text((box[0], box[1]), label, fill=\"red\", font=font)\n",
    "\n",
    "        img.show()  # Or use img.save(\"annotated_image.jpg\") to save the image\n"
   ]
  },
  {
   "cell_type": "code",
   "execution_count": null,
   "id": "8501f8f0-4cc9-473b-bb7b-a8b7815dfb86",
   "metadata": {},
   "outputs": [],
   "source": []
  }
 ],
 "metadata": {
  "kernelspec": {
   "display_name": "Python 3 (ipykernel)",
   "language": "python",
   "name": "python3"
  },
  "language_info": {
   "codemirror_mode": {
    "name": "ipython",
    "version": 3
   },
   "file_extension": ".py",
   "mimetype": "text/x-python",
   "name": "python",
   "nbconvert_exporter": "python",
   "pygments_lexer": "ipython3",
   "version": "3.11.5"
  }
 },
 "nbformat": 4,
 "nbformat_minor": 5
}
